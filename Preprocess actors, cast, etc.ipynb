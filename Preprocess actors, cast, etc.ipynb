{
 "cells": [
  {
   "cell_type": "code",
   "execution_count": 40,
   "metadata": {},
   "outputs": [],
   "source": [
    "import pandas as pd\n",
    "import numpy as np\n",
    "df = pd.read_csv('tmdb_data.csv')"
   ]
  },
  {
   "cell_type": "code",
   "execution_count": 41,
   "metadata": {
    "scrolled": false
   },
   "outputs": [
    {
     "data": {
      "text/html": [
       "<div>\n",
       "<style scoped>\n",
       "    .dataframe tbody tr th:only-of-type {\n",
       "        vertical-align: middle;\n",
       "    }\n",
       "\n",
       "    .dataframe tbody tr th {\n",
       "        vertical-align: top;\n",
       "    }\n",
       "\n",
       "    .dataframe thead th {\n",
       "        text-align: right;\n",
       "    }\n",
       "</style>\n",
       "<table border=\"1\" class=\"dataframe\">\n",
       "  <thead>\n",
       "    <tr style=\"text-align: right;\">\n",
       "      <th></th>\n",
       "      <th>keywords</th>\n",
       "    </tr>\n",
       "  </thead>\n",
       "  <tbody>\n",
       "    <tr>\n",
       "      <th>0</th>\n",
       "      <td>['saving the world', 'riddle', 'whip', 'treasu...</td>\n",
       "    </tr>\n",
       "    <tr>\n",
       "      <th>1</th>\n",
       "      <td>['new york', 'rio de janeiro', 'superhero', 'b...</td>\n",
       "    </tr>\n",
       "    <tr>\n",
       "      <th>2</th>\n",
       "      <td>['tempel', 'shaolin', 'teenager', 'urination',...</td>\n",
       "    </tr>\n",
       "    <tr>\n",
       "      <th>3</th>\n",
       "      <td>['dc comics', 'crime fighter', 'secret identit...</td>\n",
       "    </tr>\n",
       "    <tr>\n",
       "      <th>4</th>\n",
       "      <td>['saving the world', 'artificial intelligence'...</td>\n",
       "    </tr>\n",
       "  </tbody>\n",
       "</table>\n",
       "</div>"
      ],
      "text/plain": [
       "                                            keywords\n",
       "0  ['saving the world', 'riddle', 'whip', 'treasu...\n",
       "1  ['new york', 'rio de janeiro', 'superhero', 'b...\n",
       "2  ['tempel', 'shaolin', 'teenager', 'urination',...\n",
       "3  ['dc comics', 'crime fighter', 'secret identit...\n",
       "4  ['saving the world', 'artificial intelligence'..."
      ]
     },
     "execution_count": 41,
     "metadata": {},
     "output_type": "execute_result"
    }
   ],
   "source": [
    "keywords = pd.read_csv('keywords.csv')\n",
    "keywords.head()"
   ]
  },
  {
   "cell_type": "code",
   "execution_count": 42,
   "metadata": {},
   "outputs": [],
   "source": [
    "df = pd.concat([df, keywords], axis=1, sort=False)"
   ]
  },
  {
   "cell_type": "code",
   "execution_count": 43,
   "metadata": {},
   "outputs": [],
   "source": [
    "months = {'January': 0,\n",
    "         'February': 1,\n",
    "         'March': 2,\n",
    "         'April': 3,\n",
    "         'May': 4,\n",
    "         'June': 5,\n",
    "         'July': 6,\n",
    "         'August': 7,\n",
    "         'September': 8,\n",
    "         'October': 9,\n",
    "         'November': 10,\n",
    "         'December': 11}"
   ]
  },
  {
   "cell_type": "code",
   "execution_count": 44,
   "metadata": {
    "scrolled": true
   },
   "outputs": [],
   "source": [
    "df['release_month'] = df['release_date'].apply(lambda x: months[x.split(' ')[0]])"
   ]
  },
  {
   "cell_type": "code",
   "execution_count": 45,
   "metadata": {},
   "outputs": [
    {
     "data": {
      "text/html": [
       "<div>\n",
       "<style scoped>\n",
       "    .dataframe tbody tr th:only-of-type {\n",
       "        vertical-align: middle;\n",
       "    }\n",
       "\n",
       "    .dataframe tbody tr th {\n",
       "        vertical-align: top;\n",
       "    }\n",
       "\n",
       "    .dataframe thead th {\n",
       "        text-align: right;\n",
       "    }\n",
       "</style>\n",
       "<table border=\"1\" class=\"dataframe\">\n",
       "  <thead>\n",
       "    <tr style=\"text-align: right;\">\n",
       "      <th></th>\n",
       "      <th>title</th>\n",
       "      <th>year</th>\n",
       "      <th>release_date</th>\n",
       "      <th>cast</th>\n",
       "      <th>crew</th>\n",
       "      <th>rating</th>\n",
       "      <th>overview</th>\n",
       "      <th>budget</th>\n",
       "      <th>total_revenue</th>\n",
       "      <th>tmdb_id</th>\n",
       "      <th>...</th>\n",
       "      <th>Horror</th>\n",
       "      <th>Music</th>\n",
       "      <th>Mystery</th>\n",
       "      <th>Romance</th>\n",
       "      <th>Science Fiction</th>\n",
       "      <th>Thriller</th>\n",
       "      <th>War</th>\n",
       "      <th>Western</th>\n",
       "      <th>keywords</th>\n",
       "      <th>release_month</th>\n",
       "    </tr>\n",
       "  </thead>\n",
       "  <tbody>\n",
       "    <tr>\n",
       "      <th>0</th>\n",
       "      <td>Harry Potter and the Half-Blood Prince</td>\n",
       "      <td>2009</td>\n",
       "      <td>July  8, 2009</td>\n",
       "      <td>['Daniel Radcliffe', 'Rupert Grint', 'Emma Wat...</td>\n",
       "      <td>{'Director': ['David Yates'], 'Novel': ['J.K. ...</td>\n",
       "      <td>PG</td>\n",
       "      <td>As Harry begins his sixth year at Hogwarts, he...</td>\n",
       "      <td>250000000</td>\n",
       "      <td>933959197</td>\n",
       "      <td>767</td>\n",
       "      <td>...</td>\n",
       "      <td>0</td>\n",
       "      <td>0</td>\n",
       "      <td>0</td>\n",
       "      <td>0</td>\n",
       "      <td>0</td>\n",
       "      <td>0</td>\n",
       "      <td>0</td>\n",
       "      <td>0</td>\n",
       "      <td>['saving the world', 'riddle', 'whip', 'treasu...</td>\n",
       "      <td>6</td>\n",
       "    </tr>\n",
       "    <tr>\n",
       "      <th>1</th>\n",
       "      <td>Terminator Salvation</td>\n",
       "      <td>2009</td>\n",
       "      <td>May 20, 2009</td>\n",
       "      <td>['Christian Bale', 'Sam Worthington', 'Anton Y...</td>\n",
       "      <td>{'Director': ['McG'], 'Writer': ['Michael Ferr...</td>\n",
       "      <td>PG-13</td>\n",
       "      <td>All grown up in post-apocalyptic 2018, John Co...</td>\n",
       "      <td>200000000</td>\n",
       "      <td>371353001</td>\n",
       "      <td>534</td>\n",
       "      <td>...</td>\n",
       "      <td>0</td>\n",
       "      <td>0</td>\n",
       "      <td>0</td>\n",
       "      <td>0</td>\n",
       "      <td>1</td>\n",
       "      <td>1</td>\n",
       "      <td>0</td>\n",
       "      <td>0</td>\n",
       "      <td>['new york', 'rio de janeiro', 'superhero', 'b...</td>\n",
       "      <td>4</td>\n",
       "    </tr>\n",
       "    <tr>\n",
       "      <th>2</th>\n",
       "      <td>Indiana Jones and the Kingdom of the Crystal S...</td>\n",
       "      <td>2008</td>\n",
       "      <td>May 22, 2008</td>\n",
       "      <td>['Harrison Ford', 'Cate Blanchett', 'Shia LaBe...</td>\n",
       "      <td>{'Characters': ['George Lucas', 'Philip Kaufma...</td>\n",
       "      <td>PG-13</td>\n",
       "      <td>Set during the Cold War, the Soviets – led by ...</td>\n",
       "      <td>185000000</td>\n",
       "      <td>786636033</td>\n",
       "      <td>217</td>\n",
       "      <td>...</td>\n",
       "      <td>0</td>\n",
       "      <td>0</td>\n",
       "      <td>0</td>\n",
       "      <td>0</td>\n",
       "      <td>0</td>\n",
       "      <td>0</td>\n",
       "      <td>0</td>\n",
       "      <td>0</td>\n",
       "      <td>['tempel', 'shaolin', 'teenager', 'urination',...</td>\n",
       "      <td>4</td>\n",
       "    </tr>\n",
       "    <tr>\n",
       "      <th>3</th>\n",
       "      <td>The Incredible Hulk</td>\n",
       "      <td>2008</td>\n",
       "      <td>June 12, 2008</td>\n",
       "      <td>['Edward Norton', 'Liv Tyler', 'Tim Roth', 'Wi...</td>\n",
       "      <td>{'Characters': ['Stan Lee', 'Jack Kirby'], 'Di...</td>\n",
       "      <td>PG-13</td>\n",
       "      <td>Scientist Bruce Banner scours the planet for a...</td>\n",
       "      <td>150000000</td>\n",
       "      <td>163712074</td>\n",
       "      <td>1724</td>\n",
       "      <td>...</td>\n",
       "      <td>0</td>\n",
       "      <td>0</td>\n",
       "      <td>0</td>\n",
       "      <td>0</td>\n",
       "      <td>1</td>\n",
       "      <td>0</td>\n",
       "      <td>0</td>\n",
       "      <td>0</td>\n",
       "      <td>['dc comics', 'crime fighter', 'secret identit...</td>\n",
       "      <td>5</td>\n",
       "    </tr>\n",
       "    <tr>\n",
       "      <th>4</th>\n",
       "      <td>The Dark Knight</td>\n",
       "      <td>2008</td>\n",
       "      <td>July 14, 2008</td>\n",
       "      <td>['Christian Bale', 'Michael Caine', 'Heath Led...</td>\n",
       "      <td>{'Director': ['Christopher Nolan'], 'Screenpla...</td>\n",
       "      <td>PG-13</td>\n",
       "      <td>Batman raises the stakes in his war on crime. ...</td>\n",
       "      <td>185000000</td>\n",
       "      <td>1004558444</td>\n",
       "      <td>155</td>\n",
       "      <td>...</td>\n",
       "      <td>0</td>\n",
       "      <td>0</td>\n",
       "      <td>0</td>\n",
       "      <td>0</td>\n",
       "      <td>0</td>\n",
       "      <td>1</td>\n",
       "      <td>0</td>\n",
       "      <td>0</td>\n",
       "      <td>['saving the world', 'artificial intelligence'...</td>\n",
       "      <td>6</td>\n",
       "    </tr>\n",
       "  </tbody>\n",
       "</table>\n",
       "<p>5 rows × 40 columns</p>\n",
       "</div>"
      ],
      "text/plain": [
       "                                               title  year   release_date  \\\n",
       "0             Harry Potter and the Half-Blood Prince  2009  July  8, 2009   \n",
       "1                               Terminator Salvation  2009   May 20, 2009   \n",
       "2  Indiana Jones and the Kingdom of the Crystal S...  2008   May 22, 2008   \n",
       "3                                The Incredible Hulk  2008  June 12, 2008   \n",
       "4                                    The Dark Knight  2008  July 14, 2008   \n",
       "\n",
       "                                                cast  \\\n",
       "0  ['Daniel Radcliffe', 'Rupert Grint', 'Emma Wat...   \n",
       "1  ['Christian Bale', 'Sam Worthington', 'Anton Y...   \n",
       "2  ['Harrison Ford', 'Cate Blanchett', 'Shia LaBe...   \n",
       "3  ['Edward Norton', 'Liv Tyler', 'Tim Roth', 'Wi...   \n",
       "4  ['Christian Bale', 'Michael Caine', 'Heath Led...   \n",
       "\n",
       "                                                crew rating  \\\n",
       "0  {'Director': ['David Yates'], 'Novel': ['J.K. ...     PG   \n",
       "1  {'Director': ['McG'], 'Writer': ['Michael Ferr...  PG-13   \n",
       "2  {'Characters': ['George Lucas', 'Philip Kaufma...  PG-13   \n",
       "3  {'Characters': ['Stan Lee', 'Jack Kirby'], 'Di...  PG-13   \n",
       "4  {'Director': ['Christopher Nolan'], 'Screenpla...  PG-13   \n",
       "\n",
       "                                            overview     budget  \\\n",
       "0  As Harry begins his sixth year at Hogwarts, he...  250000000   \n",
       "1  All grown up in post-apocalyptic 2018, John Co...  200000000   \n",
       "2  Set during the Cold War, the Soviets – led by ...  185000000   \n",
       "3  Scientist Bruce Banner scours the planet for a...  150000000   \n",
       "4  Batman raises the stakes in his war on crime. ...  185000000   \n",
       "\n",
       "   total_revenue  tmdb_id  ... Horror Music  Mystery Romance  Science Fiction  \\\n",
       "0      933959197      767  ...      0     0        0       0                0   \n",
       "1      371353001      534  ...      0     0        0       0                1   \n",
       "2      786636033      217  ...      0     0        0       0                0   \n",
       "3      163712074     1724  ...      0     0        0       0                1   \n",
       "4     1004558444      155  ...      0     0        0       0                0   \n",
       "\n",
       "  Thriller War  Western                                           keywords  \\\n",
       "0        0   0        0  ['saving the world', 'riddle', 'whip', 'treasu...   \n",
       "1        1   0        0  ['new york', 'rio de janeiro', 'superhero', 'b...   \n",
       "2        0   0        0  ['tempel', 'shaolin', 'teenager', 'urination',...   \n",
       "3        0   0        0  ['dc comics', 'crime fighter', 'secret identit...   \n",
       "4        1   0        0  ['saving the world', 'artificial intelligence'...   \n",
       "\n",
       "  release_month  \n",
       "0             6  \n",
       "1             4  \n",
       "2             4  \n",
       "3             5  \n",
       "4             6  \n",
       "\n",
       "[5 rows x 40 columns]"
      ]
     },
     "execution_count": 45,
     "metadata": {},
     "output_type": "execute_result"
    }
   ],
   "source": [
    "df.head()"
   ]
  },
  {
   "cell_type": "code",
   "execution_count": 46,
   "metadata": {},
   "outputs": [],
   "source": [
    "actors = df['cast'].apply(lambda x: x[1:-1].replace(\"'\", '').split(', '))\n",
    "keywords = df['keywords'].apply(lambda x: x[1:-1].replace(\"'\", '').split(', '))"
   ]
  },
  {
   "cell_type": "code",
   "execution_count": 47,
   "metadata": {},
   "outputs": [],
   "source": [
    "import json\n",
    "# tmp = df['crew'][0]\n",
    "crew = []\n",
    "# x = list(json.loads(tmp.replace(\"'\", '\"')).values())\n",
    "# for y in x:\n",
    "#     crew.extend(y)\n",
    "# crew\n",
    "for x in df['crew']: \n",
    "    tmp = list(json.loads(x.replace(\"['\", '[\"').replace(\"']\", '\"]').replace(\"',\", '\",').replace(\"{'\", '{\"').replace(\"':\", '\":').replace(\" '\", ' \"')).values())\n",
    "    tmp_list = []\n",
    "    for y in tmp:\n",
    "        tmp_list.extend(y)\n",
    "    crew.append(list(set(tmp_list)))"
   ]
  },
  {
   "cell_type": "code",
   "execution_count": 48,
   "metadata": {},
   "outputs": [],
   "source": [
    "ratings = pd.get_dummies(df['rating'])"
   ]
  },
  {
   "cell_type": "code",
   "execution_count": 49,
   "metadata": {},
   "outputs": [],
   "source": [
    "df = pd.concat([df, ratings], axis=1, sort=False).drop(columns = ['rating'])"
   ]
  },
  {
   "cell_type": "code",
   "execution_count": 50,
   "metadata": {},
   "outputs": [],
   "source": [
    "studio = pd.get_dummies(df['studio'])"
   ]
  },
  {
   "cell_type": "code",
   "execution_count": 51,
   "metadata": {},
   "outputs": [],
   "source": [
    "df['total_gross'] = df['total_gross'].apply(lambda x: int(x[1:].replace(',','')))\n",
    "df['opening_gross'] = df['opening_gross'].apply(lambda x: int(x[1:].replace(',','')))"
   ]
  },
  {
   "cell_type": "code",
   "execution_count": 52,
   "metadata": {},
   "outputs": [],
   "source": [
    "df.drop(columns=['overview', 'tmdb_id'], inplace=True)"
   ]
  },
  {
   "cell_type": "code",
   "execution_count": 53,
   "metadata": {},
   "outputs": [],
   "source": [
    "production_companies = df['production_companies'].apply(lambda x: x[1:-1].replace(\"'\", '').replace('\"', '').split(', '))"
   ]
  },
  {
   "cell_type": "code",
   "execution_count": 54,
   "metadata": {},
   "outputs": [],
   "source": [
    "pcd = pd.get_dummies(production_companies.apply(pd.Series).stack()).sum(level=0)\n",
    "pcd_sum = pcd.sum()"
   ]
  },
  {
   "cell_type": "code",
   "execution_count": 55,
   "metadata": {},
   "outputs": [],
   "source": [
    "to_drop = []\n",
    "pcd['other_production_companies'] = pd.DataFrame(np.zeros((900, 1)))\n",
    "for x in pcd.columns:\n",
    "    if x != 'other_production_companies' and pcd_sum.loc[x] < 10:\n",
    "        to_drop.append(x)\n",
    "        pcd['other_production_companies'] += pcd[x]"
   ]
  },
  {
   "cell_type": "code",
   "execution_count": 56,
   "metadata": {},
   "outputs": [],
   "source": [
    "pcd.drop(columns=to_drop, inplace=True)"
   ]
  },
  {
   "cell_type": "code",
   "execution_count": 57,
   "metadata": {},
   "outputs": [],
   "source": [
    "pcd['other_production_companies'] = pcd['other_production_companies'].apply(lambda x: 1 if x != 0 else 0)"
   ]
  },
  {
   "cell_type": "code",
   "execution_count": 58,
   "metadata": {},
   "outputs": [],
   "source": [
    "df.drop(columns=['opening_date'], inplace=True)"
   ]
  },
  {
   "cell_type": "code",
   "execution_count": 59,
   "metadata": {},
   "outputs": [],
   "source": [
    "df.drop(columns=['cast', 'crew', 'keywords', 'studio', 'production_companies', 'release_date'], inplace=True)"
   ]
  },
  {
   "cell_type": "code",
   "execution_count": 60,
   "metadata": {},
   "outputs": [],
   "source": [
    "df.drop(columns=['imdb_id'], inplace=True)"
   ]
  },
  {
   "cell_type": "code",
   "execution_count": 61,
   "metadata": {},
   "outputs": [],
   "source": [
    "df = pd.concat([df, studio, pcd], axis=1, sort=False)"
   ]
  },
  {
   "cell_type": "code",
   "execution_count": 62,
   "metadata": {},
   "outputs": [],
   "source": [
    "X = df.drop(columns = ['total_gross', 'total_revenue', 'title', 'opening_gross'])"
   ]
  },
  {
   "cell_type": "code",
   "execution_count": 63,
   "metadata": {},
   "outputs": [],
   "source": [
    "#y = df.loc[:, ['total_gross', 'total_revenue']]\n",
    "y = df['total_revenue']"
   ]
  },
  {
   "cell_type": "code",
   "execution_count": 64,
   "metadata": {},
   "outputs": [],
   "source": [
    "from sklearn.model_selection import train_test_split\n",
    "X_train, X_test, y_train, y_test = train_test_split(X, y, test_size=0.2)"
   ]
  },
  {
   "cell_type": "code",
   "execution_count": 65,
   "metadata": {},
   "outputs": [],
   "source": [
    "from sklearn.naive_bayes import GaussianNB\n",
    "clf = GaussianNB()\n",
    "clf.fit(X_train, y_train)\n",
    "GaussianNB(priors=None)\n",
    "y_pred = clf.predict(X_test)"
   ]
  },
  {
   "cell_type": "code",
   "execution_count": 66,
   "metadata": {},
   "outputs": [
    {
     "data": {
      "text/plain": [
       "0.0389149654637834"
      ]
     },
     "execution_count": 66,
     "metadata": {},
     "output_type": "execute_result"
    }
   ],
   "source": [
    "from sklearn.preprocessing import MinMaxScaler\n",
    "scaler = MinMaxScaler()\n",
    "scaler.fit(np.array(y_pred).reshape(-1, 1))\n",
    "y_pred_new = scaler.transform(np.array(y_pred).reshape(-1, 1))\n",
    "# scaler.fit(y_test)\n",
    "y_test_new = scaler.transform(np.array(y_test).reshape(-1, 1)).reshape(-1, 1)\n",
    "\n",
    "from sklearn.metrics import mean_squared_error\n",
    "mean_squared_error(y_test_new, y_pred_new)\n",
    "#mean_squared_error(y_test, y_pred)"
   ]
  },
  {
   "cell_type": "code",
   "execution_count": 67,
   "metadata": {},
   "outputs": [
    {
     "data": {
      "text/plain": [
       "['year',\n",
       " 'budget',\n",
       " 'total_theaters',\n",
       " 'opening_theaters',\n",
       " 'runtime',\n",
       " 'in_collection',\n",
       " 'Action',\n",
       " 'Adventure',\n",
       " 'Animation',\n",
       " 'Comedy',\n",
       " 'Crime',\n",
       " 'Documentary',\n",
       " 'Drama',\n",
       " 'Family',\n",
       " 'Fantasy',\n",
       " 'History',\n",
       " 'Horror',\n",
       " 'Music',\n",
       " 'Mystery',\n",
       " 'Romance',\n",
       " 'Science Fiction',\n",
       " 'Thriller',\n",
       " 'War',\n",
       " 'Western',\n",
       " 'release_month',\n",
       " 'G',\n",
       " 'PG',\n",
       " 'PG-13',\n",
       " 'R',\n",
       " 'A24',\n",
       " 'Annapurna',\n",
       " 'BG',\n",
       " 'BST',\n",
       " 'BV',\n",
       " 'CBS',\n",
       " 'ENTMP',\n",
       " 'FD',\n",
       " 'Focus',\n",
       " 'Fox',\n",
       " 'FoxS',\n",
       " 'Free',\n",
       " 'Gold.',\n",
       " 'IFC',\n",
       " 'LG/S',\n",
       " 'LGF',\n",
       " 'MGM',\n",
       " 'Mira.',\n",
       " 'Neon',\n",
       " 'ORF',\n",
       " 'Orion',\n",
       " 'Over.',\n",
       " 'P/DW',\n",
       " 'Par.',\n",
       " 'ParV',\n",
       " 'RAtt.',\n",
       " 'Rela.',\n",
       " 'Rog.',\n",
       " 'SGem',\n",
       " 'SPC',\n",
       " 'STX',\n",
       " 'Sony',\n",
       " 'Studio 8',\n",
       " 'Sum.',\n",
       " 'TriS',\n",
       " 'UA',\n",
       " 'UAR',\n",
       " 'Uni.',\n",
       " 'W/Dim.',\n",
       " 'WB',\n",
       " 'WB (NL)',\n",
       " 'Wein.',\n",
       " '20th Century Fox',\n",
       " '21 Laps Entertainment',\n",
       " 'Amblin Entertainment',\n",
       " 'Apatow Productions',\n",
       " 'Bad Robot',\n",
       " 'Big Screen Productions',\n",
       " 'Blumhouse Productions',\n",
       " 'Chernin Entertainment',\n",
       " 'Columbia Pictures',\n",
       " 'DC Entertainment',\n",
       " 'Dentsu',\n",
       " 'Di Bonaventura Pictures',\n",
       " 'DreamWorks Animation',\n",
       " 'DreamWorks Pictures',\n",
       " 'Dune Entertainment',\n",
       " 'Dune Entertainment III',\n",
       " 'Escape Artists',\n",
       " 'Focus Features',\n",
       " 'Fox 2000 Pictures',\n",
       " 'Fox Searchlight Pictures',\n",
       " 'Fuji Television Network',\n",
       " 'GK Films',\n",
       " 'Gary Sanchez Productions',\n",
       " 'Happy Madison Productions',\n",
       " 'Imagine Entertainment',\n",
       " 'Ingenious Media',\n",
       " 'LStar Capital',\n",
       " 'Legendary Entertainment',\n",
       " 'Lionsgate',\n",
       " 'Marvel Entertainment',\n",
       " 'Marvel Studios',\n",
       " 'Media Rights Capital',\n",
       " 'Metro-Goldwyn-Mayer',\n",
       " 'New Line Cinema',\n",
       " 'New Regency Pictures',\n",
       " 'Original Film',\n",
       " 'Paramount',\n",
       " 'Participant Media',\n",
       " 'Perfect World Pictures',\n",
       " 'Pixar',\n",
       " 'Platinum Dunes',\n",
       " 'RatPac-Dune Entertainment',\n",
       " 'Regency Enterprises',\n",
       " 'Relativity Media',\n",
       " 'Reliance Entertainment',\n",
       " 'Scott Free Productions',\n",
       " 'Scott Rudin Productions',\n",
       " 'Screen Gems',\n",
       " 'Skydance Media',\n",
       " 'Sony Pictures',\n",
       " 'Sony Pictures Animation',\n",
       " 'Spyglass Entertainment',\n",
       " 'StudioCanal',\n",
       " 'Summit Entertainment',\n",
       " 'TSG Entertainment',\n",
       " 'Temple Hill Entertainment',\n",
       " 'The Kennedy/Marshall Company',\n",
       " 'The Weinstein Company',\n",
       " 'Touchstone Pictures',\n",
       " 'TriStar Pictures',\n",
       " 'Universal Pictures',\n",
       " 'Village Roadshow Pictures',\n",
       " 'Walden Media',\n",
       " 'Walt Disney Animation Studios',\n",
       " 'Walt Disney Pictures',\n",
       " 'Warner Bros. Pictures',\n",
       " 'Working Title Films',\n",
       " 'other_production_companies']"
      ]
     },
     "execution_count": 67,
     "metadata": {},
     "output_type": "execute_result"
    }
   ],
   "source": [
    "list(X.columns)"
   ]
  },
  {
   "cell_type": "code",
   "execution_count": null,
   "metadata": {},
   "outputs": [],
   "source": []
  }
 ],
 "metadata": {
  "kernelspec": {
   "display_name": "Python 3",
   "language": "python",
   "name": "python3"
  },
  "language_info": {
   "codemirror_mode": {
    "name": "ipython",
    "version": 3
   },
   "file_extension": ".py",
   "mimetype": "text/x-python",
   "name": "python",
   "nbconvert_exporter": "python",
   "pygments_lexer": "ipython3",
   "version": "3.6.8"
  }
 },
 "nbformat": 4,
 "nbformat_minor": 2
}
