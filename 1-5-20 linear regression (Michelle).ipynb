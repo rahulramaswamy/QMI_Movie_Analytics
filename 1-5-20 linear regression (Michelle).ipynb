{
 "cells": [
  {
   "cell_type": "code",
   "execution_count": 2,
   "metadata": {},
   "outputs": [
    {
     "name": "stdout",
     "output_type": "stream",
     "text": [
      "Requirement already satisfied: numpy in /Library/Frameworks/Python.framework/Versions/3.7/lib/python3.7/site-packages (1.18.0)\n",
      "\u001b[33mYou are using pip version 19.0.3, however version 19.3.1 is available.\n",
      "You should consider upgrading via the 'pip install --upgrade pip' command.\u001b[0m\n"
     ]
    }
   ],
   "source": [
    "import sys\n",
    "!{sys.executable} -m pip install numpy\n"
   ]
  },
  {
   "cell_type": "code",
   "execution_count": 3,
   "metadata": {},
   "outputs": [
    {
     "name": "stdout",
     "output_type": "stream",
     "text": [
      "Requirement already satisfied: matplotlib in /Library/Frameworks/Python.framework/Versions/3.7/lib/python3.7/site-packages (3.1.2)\n",
      "Requirement already satisfied: numpy>=1.11 in /Library/Frameworks/Python.framework/Versions/3.7/lib/python3.7/site-packages (from matplotlib) (1.18.0)\n",
      "Requirement already satisfied: cycler>=0.10 in /Library/Frameworks/Python.framework/Versions/3.7/lib/python3.7/site-packages (from matplotlib) (0.10.0)\n",
      "Requirement already satisfied: pyparsing!=2.0.4,!=2.1.2,!=2.1.6,>=2.0.1 in /Library/Frameworks/Python.framework/Versions/3.7/lib/python3.7/site-packages (from matplotlib) (2.4.6)\n",
      "Requirement already satisfied: kiwisolver>=1.0.1 in /Library/Frameworks/Python.framework/Versions/3.7/lib/python3.7/site-packages (from matplotlib) (1.1.0)\n",
      "Requirement already satisfied: python-dateutil>=2.1 in /Library/Frameworks/Python.framework/Versions/3.7/lib/python3.7/site-packages (from matplotlib) (2.8.0)\n",
      "Requirement already satisfied: six in /Library/Frameworks/Python.framework/Versions/3.7/lib/python3.7/site-packages (from cycler>=0.10->matplotlib) (1.12.0)\n",
      "Requirement already satisfied: setuptools in /Library/Frameworks/Python.framework/Versions/3.7/lib/python3.7/site-packages (from kiwisolver>=1.0.1->matplotlib) (40.8.0)\n",
      "\u001b[33mYou are using pip version 19.0.3, however version 19.3.1 is available.\n",
      "You should consider upgrading via the 'pip install --upgrade pip' command.\u001b[0m\n"
     ]
    }
   ],
   "source": [
    "!{sys.executable} -m pip install matplotlib"
   ]
  },
  {
   "cell_type": "code",
   "execution_count": 4,
   "metadata": {},
   "outputs": [
    {
     "name": "stdout",
     "output_type": "stream",
     "text": [
      "Requirement already satisfied: pandas in /Library/Frameworks/Python.framework/Versions/3.7/lib/python3.7/site-packages (0.25.3)\n",
      "Requirement already satisfied: python-dateutil>=2.6.1 in /Library/Frameworks/Python.framework/Versions/3.7/lib/python3.7/site-packages (from pandas) (2.8.0)\n",
      "Requirement already satisfied: pytz>=2017.2 in /Library/Frameworks/Python.framework/Versions/3.7/lib/python3.7/site-packages (from pandas) (2019.3)\n",
      "Requirement already satisfied: numpy>=1.13.3 in /Library/Frameworks/Python.framework/Versions/3.7/lib/python3.7/site-packages (from pandas) (1.18.0)\n",
      "Requirement already satisfied: six>=1.5 in /Library/Frameworks/Python.framework/Versions/3.7/lib/python3.7/site-packages (from python-dateutil>=2.6.1->pandas) (1.12.0)\n",
      "\u001b[33mYou are using pip version 19.0.3, however version 19.3.1 is available.\n",
      "You should consider upgrading via the 'pip install --upgrade pip' command.\u001b[0m\n"
     ]
    }
   ],
   "source": [
    "!{sys.executable} -m pip install pandas"
   ]
  },
  {
   "cell_type": "code",
   "execution_count": 5,
   "metadata": {
    "scrolled": true
   },
   "outputs": [
    {
     "name": "stdout",
     "output_type": "stream",
     "text": [
      "Requirement already satisfied: scikit-learn in /Library/Frameworks/Python.framework/Versions/3.7/lib/python3.7/site-packages (0.22.1)\n",
      "Requirement already satisfied: joblib>=0.11 in /Library/Frameworks/Python.framework/Versions/3.7/lib/python3.7/site-packages (from scikit-learn) (0.14.1)\n",
      "Requirement already satisfied: scipy>=0.17.0 in /Library/Frameworks/Python.framework/Versions/3.7/lib/python3.7/site-packages (from scikit-learn) (1.4.1)\n",
      "Requirement already satisfied: numpy>=1.11.0 in /Library/Frameworks/Python.framework/Versions/3.7/lib/python3.7/site-packages (from scikit-learn) (1.18.0)\n",
      "\u001b[33mYou are using pip version 19.0.3, however version 19.3.1 is available.\n",
      "You should consider upgrading via the 'pip install --upgrade pip' command.\u001b[0m\n"
     ]
    }
   ],
   "source": [
    "!{sys.executable} -m pip install scikit-learn"
   ]
  },
  {
   "cell_type": "code",
   "execution_count": 6,
   "metadata": {},
   "outputs": [
    {
     "name": "stdout",
     "output_type": "stream",
     "text": [
      "Requirement already satisfied: statsmodels in /Library/Frameworks/Python.framework/Versions/3.7/lib/python3.7/site-packages (0.10.2)\n",
      "Requirement already satisfied: patsy>=0.4.0 in /Library/Frameworks/Python.framework/Versions/3.7/lib/python3.7/site-packages (from statsmodels) (0.5.1)\n",
      "Requirement already satisfied: numpy>=1.11 in /Library/Frameworks/Python.framework/Versions/3.7/lib/python3.7/site-packages (from statsmodels) (1.18.0)\n",
      "Requirement already satisfied: scipy>=0.18 in /Library/Frameworks/Python.framework/Versions/3.7/lib/python3.7/site-packages (from statsmodels) (1.4.1)\n",
      "Requirement already satisfied: pandas>=0.19 in /Library/Frameworks/Python.framework/Versions/3.7/lib/python3.7/site-packages (from statsmodels) (0.25.3)\n",
      "Requirement already satisfied: six in /Library/Frameworks/Python.framework/Versions/3.7/lib/python3.7/site-packages (from patsy>=0.4.0->statsmodels) (1.12.0)\n",
      "Requirement already satisfied: python-dateutil>=2.6.1 in /Library/Frameworks/Python.framework/Versions/3.7/lib/python3.7/site-packages (from pandas>=0.19->statsmodels) (2.8.0)\n",
      "Requirement already satisfied: pytz>=2017.2 in /Library/Frameworks/Python.framework/Versions/3.7/lib/python3.7/site-packages (from pandas>=0.19->statsmodels) (2019.3)\n",
      "\u001b[33mYou are using pip version 19.0.3, however version 19.3.1 is available.\n",
      "You should consider upgrading via the 'pip install --upgrade pip' command.\u001b[0m\n"
     ]
    }
   ],
   "source": [
    "!{sys.executable} -m pip install statsmodels"
   ]
  },
  {
   "cell_type": "code",
   "execution_count": 43,
   "metadata": {},
   "outputs": [
    {
     "name": "stdout",
     "output_type": "stream",
     "text": [
      "Requirement already satisfied: seaborn in /Library/Frameworks/Python.framework/Versions/3.7/lib/python3.7/site-packages (0.9.0)\n",
      "Requirement already satisfied: matplotlib>=1.4.3 in /Library/Frameworks/Python.framework/Versions/3.7/lib/python3.7/site-packages (from seaborn) (3.1.2)\n",
      "Requirement already satisfied: numpy>=1.9.3 in /Library/Frameworks/Python.framework/Versions/3.7/lib/python3.7/site-packages (from seaborn) (1.18.0)\n",
      "Requirement already satisfied: pandas>=0.15.2 in /Library/Frameworks/Python.framework/Versions/3.7/lib/python3.7/site-packages (from seaborn) (0.25.3)\n",
      "Requirement already satisfied: scipy>=0.14.0 in /Library/Frameworks/Python.framework/Versions/3.7/lib/python3.7/site-packages (from seaborn) (1.4.1)\n",
      "Requirement already satisfied: kiwisolver>=1.0.1 in /Library/Frameworks/Python.framework/Versions/3.7/lib/python3.7/site-packages (from matplotlib>=1.4.3->seaborn) (1.1.0)\n",
      "Requirement already satisfied: cycler>=0.10 in /Library/Frameworks/Python.framework/Versions/3.7/lib/python3.7/site-packages (from matplotlib>=1.4.3->seaborn) (0.10.0)\n",
      "Requirement already satisfied: pyparsing!=2.0.4,!=2.1.2,!=2.1.6,>=2.0.1 in /Library/Frameworks/Python.framework/Versions/3.7/lib/python3.7/site-packages (from matplotlib>=1.4.3->seaborn) (2.4.6)\n",
      "Requirement already satisfied: python-dateutil>=2.1 in /Library/Frameworks/Python.framework/Versions/3.7/lib/python3.7/site-packages (from matplotlib>=1.4.3->seaborn) (2.8.0)\n",
      "Requirement already satisfied: pytz>=2017.2 in /Library/Frameworks/Python.framework/Versions/3.7/lib/python3.7/site-packages (from pandas>=0.15.2->seaborn) (2019.3)\n",
      "Requirement already satisfied: setuptools in /Library/Frameworks/Python.framework/Versions/3.7/lib/python3.7/site-packages (from kiwisolver>=1.0.1->matplotlib>=1.4.3->seaborn) (40.8.0)\n",
      "Requirement already satisfied: six in /Library/Frameworks/Python.framework/Versions/3.7/lib/python3.7/site-packages (from cycler>=0.10->matplotlib>=1.4.3->seaborn) (1.12.0)\n",
      "\u001b[33mYou are using pip version 19.0.3, however version 19.3.1 is available.\n",
      "You should consider upgrading via the 'pip install --upgrade pip' command.\u001b[0m\n"
     ]
    }
   ],
   "source": [
    "!{sys.executable} -m pip install seaborn"
   ]
  },
  {
   "cell_type": "code",
   "execution_count": 76,
   "metadata": {},
   "outputs": [],
   "source": [
    "import pandas as pd\n",
    "import numpy as np\n",
    "import matplotlib.pyplot as plt\n",
    "import seaborn as seabornInstance\n",
    "from sklearn.model_selection import train_test_split\n",
    "from sklearn.linear_model import LinearRegression\n",
    "from sklearn import metrics\n",
    "%matplotlib inline"
   ]
  },
  {
   "cell_type": "code",
   "execution_count": 77,
   "metadata": {},
   "outputs": [],
   "source": [
    "df = pd.read_csv('tmdb_data_copy.csv')"
   ]
  },
  {
   "cell_type": "code",
   "execution_count": 78,
   "metadata": {},
   "outputs": [
    {
     "data": {
      "text/html": [
       "<div>\n",
       "<style scoped>\n",
       "    .dataframe tbody tr th:only-of-type {\n",
       "        vertical-align: middle;\n",
       "    }\n",
       "\n",
       "    .dataframe tbody tr th {\n",
       "        vertical-align: top;\n",
       "    }\n",
       "\n",
       "    .dataframe thead th {\n",
       "        text-align: right;\n",
       "    }\n",
       "</style>\n",
       "<table border=\"1\" class=\"dataframe\">\n",
       "  <thead>\n",
       "    <tr style=\"text-align: right;\">\n",
       "      <th></th>\n",
       "      <th>keywords</th>\n",
       "    </tr>\n",
       "  </thead>\n",
       "  <tbody>\n",
       "    <tr>\n",
       "      <th>0</th>\n",
       "      <td>['saving the world', 'riddle', 'whip', 'treasu...</td>\n",
       "    </tr>\n",
       "    <tr>\n",
       "      <th>1</th>\n",
       "      <td>['new york', 'rio de janeiro', 'superhero', 'b...</td>\n",
       "    </tr>\n",
       "    <tr>\n",
       "      <th>2</th>\n",
       "      <td>['tempel', 'shaolin', 'teenager', 'urination',...</td>\n",
       "    </tr>\n",
       "    <tr>\n",
       "      <th>3</th>\n",
       "      <td>['dc comics', 'crime fighter', 'secret identit...</td>\n",
       "    </tr>\n",
       "    <tr>\n",
       "      <th>4</th>\n",
       "      <td>['saving the world', 'artificial intelligence'...</td>\n",
       "    </tr>\n",
       "  </tbody>\n",
       "</table>\n",
       "</div>"
      ],
      "text/plain": [
       "                                            keywords\n",
       "0  ['saving the world', 'riddle', 'whip', 'treasu...\n",
       "1  ['new york', 'rio de janeiro', 'superhero', 'b...\n",
       "2  ['tempel', 'shaolin', 'teenager', 'urination',...\n",
       "3  ['dc comics', 'crime fighter', 'secret identit...\n",
       "4  ['saving the world', 'artificial intelligence'..."
      ]
     },
     "execution_count": 78,
     "metadata": {},
     "output_type": "execute_result"
    }
   ],
   "source": [
    "keywords = pd.read_csv('keywords_copy.csv')\n",
    "keywords.head()\n",
    "#this is copied from rahul. idk what this means"
   ]
  },
  {
   "cell_type": "code",
   "execution_count": 79,
   "metadata": {},
   "outputs": [],
   "source": [
    "df = pd.concat([df, keywords], axis = 1, sort = False)\n",
    "#copied from rahul"
   ]
  },
  {
   "cell_type": "code",
   "execution_count": 80,
   "metadata": {},
   "outputs": [
    {
     "data": {
      "text/html": [
       "<div>\n",
       "<style scoped>\n",
       "    .dataframe tbody tr th:only-of-type {\n",
       "        vertical-align: middle;\n",
       "    }\n",
       "\n",
       "    .dataframe tbody tr th {\n",
       "        vertical-align: top;\n",
       "    }\n",
       "\n",
       "    .dataframe thead th {\n",
       "        text-align: right;\n",
       "    }\n",
       "</style>\n",
       "<table border=\"1\" class=\"dataframe\">\n",
       "  <thead>\n",
       "    <tr style=\"text-align: right;\">\n",
       "      <th></th>\n",
       "      <th>title</th>\n",
       "      <th>year</th>\n",
       "      <th>release_date</th>\n",
       "      <th>cast</th>\n",
       "      <th>crew</th>\n",
       "      <th>rating</th>\n",
       "      <th>overview</th>\n",
       "      <th>budget</th>\n",
       "      <th>total_revenue</th>\n",
       "      <th>tmdb_id</th>\n",
       "      <th>...</th>\n",
       "      <th>History</th>\n",
       "      <th>Horror</th>\n",
       "      <th>Music</th>\n",
       "      <th>Mystery</th>\n",
       "      <th>Romance</th>\n",
       "      <th>Science Fiction</th>\n",
       "      <th>Thriller</th>\n",
       "      <th>War</th>\n",
       "      <th>Western</th>\n",
       "      <th>keywords</th>\n",
       "    </tr>\n",
       "  </thead>\n",
       "  <tbody>\n",
       "    <tr>\n",
       "      <th>0</th>\n",
       "      <td>Harry Potter and the Half-Blood Prince</td>\n",
       "      <td>2009</td>\n",
       "      <td>July  8, 2009</td>\n",
       "      <td>['Daniel Radcliffe', 'Rupert Grint', 'Emma Wat...</td>\n",
       "      <td>{'Director': ['David Yates'], 'Novel': ['J.K. ...</td>\n",
       "      <td>PG</td>\n",
       "      <td>As Harry begins his sixth year at Hogwarts, he...</td>\n",
       "      <td>250000000</td>\n",
       "      <td>933959197</td>\n",
       "      <td>767</td>\n",
       "      <td>...</td>\n",
       "      <td>0</td>\n",
       "      <td>0</td>\n",
       "      <td>0</td>\n",
       "      <td>0</td>\n",
       "      <td>0</td>\n",
       "      <td>0</td>\n",
       "      <td>0</td>\n",
       "      <td>0</td>\n",
       "      <td>0</td>\n",
       "      <td>['saving the world', 'riddle', 'whip', 'treasu...</td>\n",
       "    </tr>\n",
       "    <tr>\n",
       "      <th>1</th>\n",
       "      <td>Terminator Salvation</td>\n",
       "      <td>2009</td>\n",
       "      <td>May 20, 2009</td>\n",
       "      <td>['Christian Bale', 'Sam Worthington', 'Anton Y...</td>\n",
       "      <td>{'Director': ['McG'], 'Writer': ['Michael Ferr...</td>\n",
       "      <td>PG-13</td>\n",
       "      <td>All grown up in post-apocalyptic 2018, John Co...</td>\n",
       "      <td>200000000</td>\n",
       "      <td>371353001</td>\n",
       "      <td>534</td>\n",
       "      <td>...</td>\n",
       "      <td>0</td>\n",
       "      <td>0</td>\n",
       "      <td>0</td>\n",
       "      <td>0</td>\n",
       "      <td>0</td>\n",
       "      <td>1</td>\n",
       "      <td>1</td>\n",
       "      <td>0</td>\n",
       "      <td>0</td>\n",
       "      <td>['new york', 'rio de janeiro', 'superhero', 'b...</td>\n",
       "    </tr>\n",
       "    <tr>\n",
       "      <th>2</th>\n",
       "      <td>Indiana Jones and the Kingdom of the Crystal S...</td>\n",
       "      <td>2008</td>\n",
       "      <td>May 22, 2008</td>\n",
       "      <td>['Harrison Ford', 'Cate Blanchett', 'Shia LaBe...</td>\n",
       "      <td>{'Characters': ['George Lucas', 'Philip Kaufma...</td>\n",
       "      <td>PG-13</td>\n",
       "      <td>Set during the Cold War, the Soviets – led by ...</td>\n",
       "      <td>185000000</td>\n",
       "      <td>786636033</td>\n",
       "      <td>217</td>\n",
       "      <td>...</td>\n",
       "      <td>0</td>\n",
       "      <td>0</td>\n",
       "      <td>0</td>\n",
       "      <td>0</td>\n",
       "      <td>0</td>\n",
       "      <td>0</td>\n",
       "      <td>0</td>\n",
       "      <td>0</td>\n",
       "      <td>0</td>\n",
       "      <td>['tempel', 'shaolin', 'teenager', 'urination',...</td>\n",
       "    </tr>\n",
       "    <tr>\n",
       "      <th>3</th>\n",
       "      <td>The Incredible Hulk</td>\n",
       "      <td>2008</td>\n",
       "      <td>June 12, 2008</td>\n",
       "      <td>['Edward Norton', 'Liv Tyler', 'Tim Roth', 'Wi...</td>\n",
       "      <td>{'Characters': ['Stan Lee', 'Jack Kirby'], 'Di...</td>\n",
       "      <td>PG-13</td>\n",
       "      <td>Scientist Bruce Banner scours the planet for a...</td>\n",
       "      <td>150000000</td>\n",
       "      <td>163712074</td>\n",
       "      <td>1724</td>\n",
       "      <td>...</td>\n",
       "      <td>0</td>\n",
       "      <td>0</td>\n",
       "      <td>0</td>\n",
       "      <td>0</td>\n",
       "      <td>0</td>\n",
       "      <td>1</td>\n",
       "      <td>0</td>\n",
       "      <td>0</td>\n",
       "      <td>0</td>\n",
       "      <td>['dc comics', 'crime fighter', 'secret identit...</td>\n",
       "    </tr>\n",
       "    <tr>\n",
       "      <th>4</th>\n",
       "      <td>The Dark Knight</td>\n",
       "      <td>2008</td>\n",
       "      <td>July 14, 2008</td>\n",
       "      <td>['Christian Bale', 'Michael Caine', 'Heath Led...</td>\n",
       "      <td>{'Director': ['Christopher Nolan'], 'Screenpla...</td>\n",
       "      <td>PG-13</td>\n",
       "      <td>Batman raises the stakes in his war on crime. ...</td>\n",
       "      <td>185000000</td>\n",
       "      <td>1004558444</td>\n",
       "      <td>155</td>\n",
       "      <td>...</td>\n",
       "      <td>0</td>\n",
       "      <td>0</td>\n",
       "      <td>0</td>\n",
       "      <td>0</td>\n",
       "      <td>0</td>\n",
       "      <td>0</td>\n",
       "      <td>1</td>\n",
       "      <td>0</td>\n",
       "      <td>0</td>\n",
       "      <td>['saving the world', 'artificial intelligence'...</td>\n",
       "    </tr>\n",
       "  </tbody>\n",
       "</table>\n",
       "<p>5 rows × 39 columns</p>\n",
       "</div>"
      ],
      "text/plain": [
       "                                               title  year   release_date  \\\n",
       "0             Harry Potter and the Half-Blood Prince  2009  July  8, 2009   \n",
       "1                               Terminator Salvation  2009   May 20, 2009   \n",
       "2  Indiana Jones and the Kingdom of the Crystal S...  2008   May 22, 2008   \n",
       "3                                The Incredible Hulk  2008  June 12, 2008   \n",
       "4                                    The Dark Knight  2008  July 14, 2008   \n",
       "\n",
       "                                                cast  \\\n",
       "0  ['Daniel Radcliffe', 'Rupert Grint', 'Emma Wat...   \n",
       "1  ['Christian Bale', 'Sam Worthington', 'Anton Y...   \n",
       "2  ['Harrison Ford', 'Cate Blanchett', 'Shia LaBe...   \n",
       "3  ['Edward Norton', 'Liv Tyler', 'Tim Roth', 'Wi...   \n",
       "4  ['Christian Bale', 'Michael Caine', 'Heath Led...   \n",
       "\n",
       "                                                crew rating  \\\n",
       "0  {'Director': ['David Yates'], 'Novel': ['J.K. ...     PG   \n",
       "1  {'Director': ['McG'], 'Writer': ['Michael Ferr...  PG-13   \n",
       "2  {'Characters': ['George Lucas', 'Philip Kaufma...  PG-13   \n",
       "3  {'Characters': ['Stan Lee', 'Jack Kirby'], 'Di...  PG-13   \n",
       "4  {'Director': ['Christopher Nolan'], 'Screenpla...  PG-13   \n",
       "\n",
       "                                            overview     budget  \\\n",
       "0  As Harry begins his sixth year at Hogwarts, he...  250000000   \n",
       "1  All grown up in post-apocalyptic 2018, John Co...  200000000   \n",
       "2  Set during the Cold War, the Soviets – led by ...  185000000   \n",
       "3  Scientist Bruce Banner scours the planet for a...  150000000   \n",
       "4  Batman raises the stakes in his war on crime. ...  185000000   \n",
       "\n",
       "   total_revenue  tmdb_id  ... History Horror  Music Mystery  Romance  \\\n",
       "0      933959197      767  ...       0      0      0       0        0   \n",
       "1      371353001      534  ...       0      0      0       0        0   \n",
       "2      786636033      217  ...       0      0      0       0        0   \n",
       "3      163712074     1724  ...       0      0      0       0        0   \n",
       "4     1004558444      155  ...       0      0      0       0        0   \n",
       "\n",
       "  Science Fiction Thriller  War  Western  \\\n",
       "0               0        0    0        0   \n",
       "1               1        1    0        0   \n",
       "2               0        0    0        0   \n",
       "3               1        0    0        0   \n",
       "4               0        1    0        0   \n",
       "\n",
       "                                            keywords  \n",
       "0  ['saving the world', 'riddle', 'whip', 'treasu...  \n",
       "1  ['new york', 'rio de janeiro', 'superhero', 'b...  \n",
       "2  ['tempel', 'shaolin', 'teenager', 'urination',...  \n",
       "3  ['dc comics', 'crime fighter', 'secret identit...  \n",
       "4  ['saving the world', 'artificial intelligence'...  \n",
       "\n",
       "[5 rows x 39 columns]"
      ]
     },
     "execution_count": 80,
     "metadata": {},
     "output_type": "execute_result"
    }
   ],
   "source": [
    "df.head()\n",
    "#copied from rahul"
   ]
  },
  {
   "cell_type": "code",
   "execution_count": 81,
   "metadata": {},
   "outputs": [
    {
     "name": "stdout",
     "output_type": "stream",
     "text": [
      "intercept: -3191170222.931529\n",
      "coefficients: [1.37835706e+06 2.34299656e+00 6.80490222e+04 2.11852391e+06\n",
      " 1.31759658e+08]\n"
     ]
    }
   ],
   "source": [
    "#THIS IS A LINE THAT I MADE\n",
    "\n",
    "from sklearn.linear_model import LinearRegression\n",
    "mlr = LinearRegression()\n",
    "mlr.fit(df[['year','budget','total_theaters','runtime','in_collection']], df['total_revenue'])\n",
    "print(\"intercept:\", mlr.intercept_)\n",
    "print(\"coefficients:\", mlr.coef_)"
   ]
  },
  {
   "cell_type": "code",
   "execution_count": 82,
   "metadata": {},
   "outputs": [
    {
     "data": {
      "text/html": [
       "<div>\n",
       "<style scoped>\n",
       "    .dataframe tbody tr th:only-of-type {\n",
       "        vertical-align: middle;\n",
       "    }\n",
       "\n",
       "    .dataframe tbody tr th {\n",
       "        vertical-align: top;\n",
       "    }\n",
       "\n",
       "    .dataframe thead th {\n",
       "        text-align: right;\n",
       "    }\n",
       "</style>\n",
       "<table border=\"1\" class=\"dataframe\">\n",
       "  <thead>\n",
       "    <tr style=\"text-align: right;\">\n",
       "      <th></th>\n",
       "      <th>year</th>\n",
       "      <th>budget</th>\n",
       "      <th>total_revenue</th>\n",
       "      <th>tmdb_id</th>\n",
       "      <th>total_theaters</th>\n",
       "      <th>opening_theaters</th>\n",
       "      <th>runtime</th>\n",
       "      <th>in_collection</th>\n",
       "      <th>Action</th>\n",
       "      <th>Adventure</th>\n",
       "      <th>...</th>\n",
       "      <th>Fantasy</th>\n",
       "      <th>History</th>\n",
       "      <th>Horror</th>\n",
       "      <th>Music</th>\n",
       "      <th>Mystery</th>\n",
       "      <th>Romance</th>\n",
       "      <th>Science Fiction</th>\n",
       "      <th>Thriller</th>\n",
       "      <th>War</th>\n",
       "      <th>Western</th>\n",
       "    </tr>\n",
       "  </thead>\n",
       "  <tbody>\n",
       "    <tr>\n",
       "      <th>count</th>\n",
       "      <td>900.000000</td>\n",
       "      <td>9.000000e+02</td>\n",
       "      <td>9.000000e+02</td>\n",
       "      <td>900.000000</td>\n",
       "      <td>900.000000</td>\n",
       "      <td>900.000000</td>\n",
       "      <td>900.000000</td>\n",
       "      <td>900.000000</td>\n",
       "      <td>900.000000</td>\n",
       "      <td>900.000000</td>\n",
       "      <td>...</td>\n",
       "      <td>900.000000</td>\n",
       "      <td>900.000000</td>\n",
       "      <td>900.000000</td>\n",
       "      <td>900.000000</td>\n",
       "      <td>900.000000</td>\n",
       "      <td>900.000000</td>\n",
       "      <td>900.000000</td>\n",
       "      <td>900.000000</td>\n",
       "      <td>900.000000</td>\n",
       "      <td>900.000000</td>\n",
       "    </tr>\n",
       "    <tr>\n",
       "      <th>mean</th>\n",
       "      <td>2013.218889</td>\n",
       "      <td>7.016068e+07</td>\n",
       "      <td>2.486699e+08</td>\n",
       "      <td>171269.428889</td>\n",
       "      <td>3187.472222</td>\n",
       "      <td>2960.057778</td>\n",
       "      <td>111.622222</td>\n",
       "      <td>0.357778</td>\n",
       "      <td>0.335556</td>\n",
       "      <td>0.286667</td>\n",
       "      <td>...</td>\n",
       "      <td>0.142222</td>\n",
       "      <td>0.036667</td>\n",
       "      <td>0.098889</td>\n",
       "      <td>0.024444</td>\n",
       "      <td>0.078889</td>\n",
       "      <td>0.135556</td>\n",
       "      <td>0.171111</td>\n",
       "      <td>0.244444</td>\n",
       "      <td>0.026667</td>\n",
       "      <td>0.013333</td>\n",
       "    </tr>\n",
       "    <tr>\n",
       "      <th>std</th>\n",
       "      <td>3.308713</td>\n",
       "      <td>6.349508e+07</td>\n",
       "      <td>2.982609e+08</td>\n",
       "      <td>152521.180566</td>\n",
       "      <td>677.319196</td>\n",
       "      <td>1072.256133</td>\n",
       "      <td>18.668395</td>\n",
       "      <td>0.479613</td>\n",
       "      <td>0.472447</td>\n",
       "      <td>0.452456</td>\n",
       "      <td>...</td>\n",
       "      <td>0.349472</td>\n",
       "      <td>0.188047</td>\n",
       "      <td>0.298679</td>\n",
       "      <td>0.154510</td>\n",
       "      <td>0.269715</td>\n",
       "      <td>0.342506</td>\n",
       "      <td>0.376815</td>\n",
       "      <td>0.429996</td>\n",
       "      <td>0.161197</td>\n",
       "      <td>0.114761</td>\n",
       "    </tr>\n",
       "    <tr>\n",
       "      <th>min</th>\n",
       "      <td>2008.000000</td>\n",
       "      <td>2.500000e+01</td>\n",
       "      <td>3.200000e+01</td>\n",
       "      <td>155.000000</td>\n",
       "      <td>775.000000</td>\n",
       "      <td>1.000000</td>\n",
       "      <td>13.000000</td>\n",
       "      <td>0.000000</td>\n",
       "      <td>0.000000</td>\n",
       "      <td>0.000000</td>\n",
       "      <td>...</td>\n",
       "      <td>0.000000</td>\n",
       "      <td>0.000000</td>\n",
       "      <td>0.000000</td>\n",
       "      <td>0.000000</td>\n",
       "      <td>0.000000</td>\n",
       "      <td>0.000000</td>\n",
       "      <td>0.000000</td>\n",
       "      <td>0.000000</td>\n",
       "      <td>0.000000</td>\n",
       "      <td>0.000000</td>\n",
       "    </tr>\n",
       "    <tr>\n",
       "      <th>25%</th>\n",
       "      <td>2010.000000</td>\n",
       "      <td>2.500000e+07</td>\n",
       "      <td>7.413754e+07</td>\n",
       "      <td>38357.750000</td>\n",
       "      <td>2821.000000</td>\n",
       "      <td>2719.750000</td>\n",
       "      <td>98.000000</td>\n",
       "      <td>0.000000</td>\n",
       "      <td>0.000000</td>\n",
       "      <td>0.000000</td>\n",
       "      <td>...</td>\n",
       "      <td>0.000000</td>\n",
       "      <td>0.000000</td>\n",
       "      <td>0.000000</td>\n",
       "      <td>0.000000</td>\n",
       "      <td>0.000000</td>\n",
       "      <td>0.000000</td>\n",
       "      <td>0.000000</td>\n",
       "      <td>0.000000</td>\n",
       "      <td>0.000000</td>\n",
       "      <td>0.000000</td>\n",
       "    </tr>\n",
       "    <tr>\n",
       "      <th>50%</th>\n",
       "      <td>2013.000000</td>\n",
       "      <td>4.800000e+07</td>\n",
       "      <td>1.403448e+08</td>\n",
       "      <td>109427.500000</td>\n",
       "      <td>3188.000000</td>\n",
       "      <td>3132.000000</td>\n",
       "      <td>109.500000</td>\n",
       "      <td>0.000000</td>\n",
       "      <td>0.000000</td>\n",
       "      <td>0.000000</td>\n",
       "      <td>...</td>\n",
       "      <td>0.000000</td>\n",
       "      <td>0.000000</td>\n",
       "      <td>0.000000</td>\n",
       "      <td>0.000000</td>\n",
       "      <td>0.000000</td>\n",
       "      <td>0.000000</td>\n",
       "      <td>0.000000</td>\n",
       "      <td>0.000000</td>\n",
       "      <td>0.000000</td>\n",
       "      <td>0.000000</td>\n",
       "    </tr>\n",
       "    <tr>\n",
       "      <th>75%</th>\n",
       "      <td>2016.000000</td>\n",
       "      <td>1.000000e+08</td>\n",
       "      <td>2.996498e+08</td>\n",
       "      <td>298265.500000</td>\n",
       "      <td>3657.000000</td>\n",
       "      <td>3615.000000</td>\n",
       "      <td>123.000000</td>\n",
       "      <td>1.000000</td>\n",
       "      <td>1.000000</td>\n",
       "      <td>1.000000</td>\n",
       "      <td>...</td>\n",
       "      <td>0.000000</td>\n",
       "      <td>0.000000</td>\n",
       "      <td>0.000000</td>\n",
       "      <td>0.000000</td>\n",
       "      <td>0.000000</td>\n",
       "      <td>0.000000</td>\n",
       "      <td>0.000000</td>\n",
       "      <td>0.000000</td>\n",
       "      <td>0.000000</td>\n",
       "      <td>0.000000</td>\n",
       "    </tr>\n",
       "    <tr>\n",
       "      <th>max</th>\n",
       "      <td>2019.000000</td>\n",
       "      <td>5.000000e+08</td>\n",
       "      <td>2.797801e+09</td>\n",
       "      <td>535544.000000</td>\n",
       "      <td>4662.000000</td>\n",
       "      <td>4662.000000</td>\n",
       "      <td>188.000000</td>\n",
       "      <td>1.000000</td>\n",
       "      <td>1.000000</td>\n",
       "      <td>1.000000</td>\n",
       "      <td>...</td>\n",
       "      <td>1.000000</td>\n",
       "      <td>1.000000</td>\n",
       "      <td>1.000000</td>\n",
       "      <td>1.000000</td>\n",
       "      <td>1.000000</td>\n",
       "      <td>1.000000</td>\n",
       "      <td>1.000000</td>\n",
       "      <td>1.000000</td>\n",
       "      <td>1.000000</td>\n",
       "      <td>1.000000</td>\n",
       "    </tr>\n",
       "  </tbody>\n",
       "</table>\n",
       "<p>8 rows × 26 columns</p>\n",
       "</div>"
      ],
      "text/plain": [
       "              year        budget  total_revenue        tmdb_id  \\\n",
       "count   900.000000  9.000000e+02   9.000000e+02     900.000000   \n",
       "mean   2013.218889  7.016068e+07   2.486699e+08  171269.428889   \n",
       "std       3.308713  6.349508e+07   2.982609e+08  152521.180566   \n",
       "min    2008.000000  2.500000e+01   3.200000e+01     155.000000   \n",
       "25%    2010.000000  2.500000e+07   7.413754e+07   38357.750000   \n",
       "50%    2013.000000  4.800000e+07   1.403448e+08  109427.500000   \n",
       "75%    2016.000000  1.000000e+08   2.996498e+08  298265.500000   \n",
       "max    2019.000000  5.000000e+08   2.797801e+09  535544.000000   \n",
       "\n",
       "       total_theaters  opening_theaters     runtime  in_collection  \\\n",
       "count      900.000000        900.000000  900.000000     900.000000   \n",
       "mean      3187.472222       2960.057778  111.622222       0.357778   \n",
       "std        677.319196       1072.256133   18.668395       0.479613   \n",
       "min        775.000000          1.000000   13.000000       0.000000   \n",
       "25%       2821.000000       2719.750000   98.000000       0.000000   \n",
       "50%       3188.000000       3132.000000  109.500000       0.000000   \n",
       "75%       3657.000000       3615.000000  123.000000       1.000000   \n",
       "max       4662.000000       4662.000000  188.000000       1.000000   \n",
       "\n",
       "           Action   Adventure  ...     Fantasy     History      Horror  \\\n",
       "count  900.000000  900.000000  ...  900.000000  900.000000  900.000000   \n",
       "mean     0.335556    0.286667  ...    0.142222    0.036667    0.098889   \n",
       "std      0.472447    0.452456  ...    0.349472    0.188047    0.298679   \n",
       "min      0.000000    0.000000  ...    0.000000    0.000000    0.000000   \n",
       "25%      0.000000    0.000000  ...    0.000000    0.000000    0.000000   \n",
       "50%      0.000000    0.000000  ...    0.000000    0.000000    0.000000   \n",
       "75%      1.000000    1.000000  ...    0.000000    0.000000    0.000000   \n",
       "max      1.000000    1.000000  ...    1.000000    1.000000    1.000000   \n",
       "\n",
       "            Music     Mystery     Romance  Science Fiction    Thriller  \\\n",
       "count  900.000000  900.000000  900.000000       900.000000  900.000000   \n",
       "mean     0.024444    0.078889    0.135556         0.171111    0.244444   \n",
       "std      0.154510    0.269715    0.342506         0.376815    0.429996   \n",
       "min      0.000000    0.000000    0.000000         0.000000    0.000000   \n",
       "25%      0.000000    0.000000    0.000000         0.000000    0.000000   \n",
       "50%      0.000000    0.000000    0.000000         0.000000    0.000000   \n",
       "75%      0.000000    0.000000    0.000000         0.000000    0.000000   \n",
       "max      1.000000    1.000000    1.000000         1.000000    1.000000   \n",
       "\n",
       "              War     Western  \n",
       "count  900.000000  900.000000  \n",
       "mean     0.026667    0.013333  \n",
       "std      0.161197    0.114761  \n",
       "min      0.000000    0.000000  \n",
       "25%      0.000000    0.000000  \n",
       "50%      0.000000    0.000000  \n",
       "75%      0.000000    0.000000  \n",
       "max      1.000000    1.000000  \n",
       "\n",
       "[8 rows x 26 columns]"
      ]
     },
     "execution_count": 82,
     "metadata": {},
     "output_type": "execute_result"
    }
   ],
   "source": [
    "# THIS IS ME MESSING AROUND\n",
    "df.describe()"
   ]
  },
  {
   "cell_type": "code",
   "execution_count": 83,
   "metadata": {},
   "outputs": [
    {
     "data": {
      "text/plain": [
       "<function matplotlib.pyplot.show(*args, **kw)>"
      ]
     },
     "execution_count": 83,
     "metadata": {},
     "output_type": "execute_result"
    },
    {
     "data": {
      "image/png": "[encoded data removed]",
      "text/plain": [
       "<Figure size 432x288 with 1 Axes>"
      ]
     },
     "metadata": {
      "needs_background": "light"
     },
     "output_type": "display_data"
    }
   ],
   "source": [
    "# THIS IS ME MESSING AROUND\n",
    "df.plot(x = 'budget', y = 'total_revenue', style = 'o')\n",
    "plt.title(\"Budget vs Total Revenue\")\n",
    "plt.xlabel('budget')\n",
    "plt.ylabel('total revenue')\n",
    "plt.show\n"
   ]
  },
  {
   "cell_type": "code",
   "execution_count": 84,
   "metadata": {},
   "outputs": [
    {
     "data": {
      "text/plain": [
       "<matplotlib.axes._subplots.AxesSubplot at 0x11c30dad0>"
      ]
     },
     "execution_count": 84,
     "metadata": {},
     "output_type": "execute_result"
    },
    {
     "data": {
      "image/png": "[encoded data removed]",
      "text/plain": [
       "<Figure size 1080x720 with 1 Axes>"
      ]
     },
     "metadata": {
      "needs_background": "light"
     },
     "output_type": "display_data"
    }
   ],
   "source": [
    "# THIS IS ME MESSING AROUND\n",
    "plt.figure(figsize=(15,10))\n",
    "plt.tight_layout()\n",
    "seabornInstance.distplot(df['total_revenue'])"
   ]
  },
  {
   "cell_type": "code",
   "execution_count": 85,
   "metadata": {},
   "outputs": [
    {
     "data": {
      "text/plain": [
       "title                   False\n",
       "year                    False\n",
       "release_date            False\n",
       "cast                    False\n",
       "crew                    False\n",
       "rating                  False\n",
       "overview                False\n",
       "budget                  False\n",
       "total_revenue           False\n",
       "tmdb_id                 False\n",
       "studio                  False\n",
       "total_gross             False\n",
       "total_theaters          False\n",
       "opening_gross           False\n",
       "opening_theaters        False\n",
       "opening_date            False\n",
       "production_companies    False\n",
       "runtime                 False\n",
       "in_collection           False\n",
       "imdb_id                 False\n",
       "Action                  False\n",
       "Adventure               False\n",
       "Animation               False\n",
       "Comedy                  False\n",
       "Crime                   False\n",
       "Documentary             False\n",
       "Drama                   False\n",
       "Family                  False\n",
       "Fantasy                 False\n",
       "History                 False\n",
       "Horror                  False\n",
       "Music                   False\n",
       "Mystery                 False\n",
       "Romance                 False\n",
       "Science Fiction         False\n",
       "Thriller                False\n",
       "War                     False\n",
       "Western                 False\n",
       "keywords                False\n",
       "dtype: bool"
      ]
     },
     "execution_count": 85,
     "metadata": {},
     "output_type": "execute_result"
    }
   ],
   "source": [
    "df.isnull().any()"
   ]
  },
  {
   "cell_type": "code",
   "execution_count": 86,
   "metadata": {},
   "outputs": [],
   "source": [
    "#divide data into attributes/features (x-variable) and labels (y variable)\n",
    "X = df[['year','budget','total_theaters','runtime','in_collection']].values\n",
    "\n",
    "y = df['total_revenue'].values"
   ]
  },
  {
   "cell_type": "code",
   "execution_count": 87,
   "metadata": {},
   "outputs": [],
   "source": [
    "#split 80% training; 20% test\n",
    "X_train, X_test, y_train, y_test = train_test_split(X, y, test_size=0.2, random_state=0)\n"
   ]
  },
  {
   "cell_type": "code",
   "execution_count": 88,
   "metadata": {},
   "outputs": [
    {
     "data": {
      "text/plain": [
       "LinearRegression(copy_X=True, fit_intercept=True, n_jobs=None, normalize=False)"
      ]
     },
     "execution_count": 88,
     "metadata": {},
     "output_type": "execute_result"
    }
   ],
   "source": [
    "regressor = LinearRegression()\n",
    "regressor.fit(X_train, y_train)"
   ]
  },
  {
   "cell_type": "code",
   "execution_count": 102,
   "metadata": {},
   "outputs": [
    {
     "data": {
      "text/html": [
       "<div>\n",
       "<style scoped>\n",
       "    .dataframe tbody tr th:only-of-type {\n",
       "        vertical-align: middle;\n",
       "    }\n",
       "\n",
       "    .dataframe tbody tr th {\n",
       "        vertical-align: top;\n",
       "    }\n",
       "\n",
       "    .dataframe thead th {\n",
       "        text-align: right;\n",
       "    }\n",
       "</style>\n",
       "<table border=\"1\" class=\"dataframe\">\n",
       "  <thead>\n",
       "    <tr style=\"text-align: right;\">\n",
       "      <th></th>\n",
       "      <th>Coefficient</th>\n",
       "    </tr>\n",
       "  </thead>\n",
       "  <tbody>\n",
       "    <tr>\n",
       "      <th>0</th>\n",
       "      <td>2.639132e+06</td>\n",
       "    </tr>\n",
       "    <tr>\n",
       "      <th>1</th>\n",
       "      <td>2.308929e+00</td>\n",
       "    </tr>\n",
       "    <tr>\n",
       "      <th>2</th>\n",
       "      <td>7.072466e+04</td>\n",
       "    </tr>\n",
       "    <tr>\n",
       "      <th>3</th>\n",
       "      <td>1.974579e+06</td>\n",
       "    </tr>\n",
       "    <tr>\n",
       "      <th>4</th>\n",
       "      <td>1.223630e+08</td>\n",
       "    </tr>\n",
       "  </tbody>\n",
       "</table>\n",
       "</div>"
      ],
      "text/plain": [
       "    Coefficient\n",
       "0  2.639132e+06\n",
       "1  2.308929e+00\n",
       "2  7.072466e+04\n",
       "3  1.974579e+06\n",
       "4  1.223630e+08"
      ]
     },
     "execution_count": 102,
     "metadata": {},
     "output_type": "execute_result"
    }
   ],
   "source": [
    "#coefficients\n",
    "coeff_df = pd.DataFrame(regressor.coef_, columns = ['Coefficient'])\n",
    "coeff_df\n",
    "#0 = year\n",
    "#1 = budget\n",
    "#2 = total_theaters\n",
    "#3 = runtime\n",
    "#4 = in_collection"
   ]
  },
  {
   "cell_type": "code",
   "execution_count": 103,
   "metadata": {},
   "outputs": [],
   "source": [
    "#prediction on test data\n",
    "y_pred = regressor.predict(X_test)"
   ]
  },
  {
   "cell_type": "code",
   "execution_count": 107,
   "metadata": {},
   "outputs": [
    {
     "name": "stdout",
     "output_type": "stream",
     "text": [
      "        Actual     Predicted\n",
      "0     94841481  3.163041e+07\n",
      "1    183293131  1.741809e+08\n",
      "2    240159255  2.666072e+08\n",
      "3    170764026  4.952095e+07\n",
      "4    153997819  1.768886e+08\n",
      "5     38307627  1.146402e+08\n",
      "6     60848932  3.770731e+07\n",
      "7     46069568  6.745066e+07\n",
      "8    433677183  4.570198e+08\n",
      "9     52395996  6.769131e+07\n",
      "10    41325328 -1.381507e+07\n",
      "11  1066969703  6.604044e+08\n",
      "12   144492830  1.445167e+08\n",
      "13   101332962  3.731071e+07\n",
      "14   173965010  1.243438e+08\n",
      "15   150483765  9.361606e+07\n",
      "16   216197492  3.411342e+07\n",
      "17    45300000  3.274574e+07\n",
      "18    65146020  2.839866e+08\n",
      "19   130560428  2.545078e+08\n",
      "20   419665568  7.986528e+08\n",
      "21   108758521  2.282874e+08\n",
      "22    62882090  8.403896e+07\n",
      "23    23600000 -2.202076e+06\n",
      "24   255407969  4.450287e+07\n",
      "25    41819064  1.106814e+08\n",
      "26   136267476  6.315022e+07\n",
      "27   109906372  1.183892e+08\n",
      "28   306941670  3.793031e+08\n",
      "29    98837872  1.899327e+08\n",
      "30   319131050  2.865848e+08\n",
      "31   473226958  3.504960e+08\n",
      "32   104384188  2.331993e+08\n",
      "33    98450062  2.098691e+07\n",
      "34   543934787  7.152410e+08\n",
      "35    80509622  1.268193e+08\n",
      "36   958400000  8.912214e+08\n",
      "37    55247881  1.237178e+08\n",
      "38   119559110  2.838951e+08\n",
      "39   197687603  5.205600e+08\n"
     ]
    }
   ],
   "source": [
    "#check differences between actual value and predicted value\n",
    "df = pd.DataFrame({\"Actual\": y_test, \"Predicted\": y_pred})\n",
    "df1 = df.head(40)\n",
    "print(df1)"
   ]
  },
  {
   "cell_type": "code",
   "execution_count": 108,
   "metadata": {},
   "outputs": [
    {
     "data": {
      "image/png": "[encoded data removed]",
      "text/plain": [
       "<Figure size 720x576 with 1 Axes>"
      ]
     },
     "metadata": {
      "needs_background": "light"
     },
     "output_type": "display_data"
    }
   ],
   "source": [
    "df1.plot(kind='bar',figsize=(10,8))\n",
    "plt.grid(which='major', linestyle='-', linewidth='0.5', color='green')\n",
    "plt.grid(which='minor', linestyle=':', linewidth='0.5', color='black')\n",
    "plt.show()\n",
    "#x axis = index number\n",
    "#y axis = total revenue"
   ]
  },
  {
   "cell_type": "code",
   "execution_count": 109,
   "metadata": {},
   "outputs": [
    {
     "name": "stdout",
     "output_type": "stream",
     "text": [
      "Mean Absolute Error: 121963982.11282665\n",
      "Mean Squared Error: 4.786332722925378e+16\n",
      "Root Mean Squared Error: 218776889.1570903\n"
     ]
    }
   ],
   "source": [
    "#evaluate the performance of algorthim\n",
    "print('Mean Absolute Error:', metrics.mean_absolute_error(y_test, y_pred))  \n",
    "print('Mean Squared Error:', metrics.mean_squared_error(y_test, y_pred))  \n",
    "print('Root Mean Squared Error:', np.sqrt(metrics.mean_squared_error(y_test, y_pred)))"
   ]
  },
  {
   "cell_type": "code",
   "execution_count": null,
   "metadata": {},
   "outputs": [],
   "source": []
  }
 ],
 "metadata": {
  "kernelspec": {
   "display_name": "Python 3",
   "language": "python",
   "name": "python3"
  },
  "language_info": {
   "codemirror_mode": {
    "name": "ipython",
    "version": 3
   },
   "file_extension": ".py",
   "mimetype": "text/x-python",
   "name": "python",
   "nbconvert_exporter": "python",
   "pygments_lexer": "ipython3",
   "version": "3.7.4"
  }
 },
 "nbformat": 4,
 "nbformat_minor": 2
}
